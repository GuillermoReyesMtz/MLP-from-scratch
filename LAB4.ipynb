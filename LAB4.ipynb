{
 "cells": [
  {
   "cell_type": "markdown",
   "id": "72a3002c",
   "metadata": {},
   "source": [
    "![banner](banner.png)"
   ]
  },
  {
   "cell_type": "code",
   "execution_count": 1,
   "id": "1d6dc04c",
   "metadata": {},
   "outputs": [],
   "source": [
    "import numpy as np\n",
    "import matplotlib.pyplot as plt\n",
    "%matplotlib inline"
   ]
  },
  {
   "cell_type": "code",
   "execution_count": 2,
   "id": "c9398ce3",
   "metadata": {
    "scrolled": true
   },
   "outputs": [],
   "source": [
    "#Primero cargamos la base de datos\n",
    "with open ('mnist.txt') as f:\n",
    "    lines = f.read()\n",
    "    numbers_str = lines.split()\n"
   ]
  },
  {
   "cell_type": "code",
   "execution_count": 3,
   "id": "7ab06641",
   "metadata": {
    "scrolled": true
   },
   "outputs": [],
   "source": [
    "pixel_dataset = []\n",
    "label_dataset = []\n",
    "for i in range(0, 1000):\n",
    "    pixel_dataset.append(np.array(numbers_str[((784*i)+i):((784*(i+1))+i)], dtype=int))\n",
    "    label_dataset.append(np.array(numbers_str[((784*(i+1))+i)], dtype=int))\n",
    "for i in range(len(pixel_dataset)):\n",
    "    pixel_dataset[i] = pixel_dataset[i].reshape(28, 28)"
   ]
  },
  {
   "cell_type": "code",
   "execution_count": 4,
   "id": "845699b2",
   "metadata": {},
   "outputs": [
    {
     "data": {
      "image/png": "[encoded data removed]",
      "text/plain": [
       "<Figure size 432x288 with 1 Axes>"
      ]
     },
     "metadata": {
      "needs_background": "light"
     },
     "output_type": "display_data"
    },
    {
     "name": "stdout",
     "output_type": "stream",
     "text": [
      "5\n"
     ]
    },
    {
     "data": {
      "image/png": "[encoded data removed]",
      "text/plain": [
       "<Figure size 432x288 with 1 Axes>"
      ]
     },
     "metadata": {
      "needs_background": "light"
     },
     "output_type": "display_data"
    },
    {
     "name": "stdout",
     "output_type": "stream",
     "text": [
      "0\n"
     ]
    },
    {
     "data": {
      "image/png": "[encoded data removed]",
      "text/plain": [
       "<Figure size 432x288 with 1 Axes>"
      ]
     },
     "metadata": {
      "needs_background": "light"
     },
     "output_type": "display_data"
    },
    {
     "name": "stdout",
     "output_type": "stream",
     "text": [
      "4\n"
     ]
    }
   ],
   "source": [
    "for i in range(3):\n",
    "    plt.imshow(pixel_dataset[i], cmap='gray')\n",
    "    plt.show()\n",
    "    print(label_dataset[i])"
   ]
  },
  {
   "cell_type": "code",
   "execution_count": 5,
   "id": "ef3bf1db",
   "metadata": {},
   "outputs": [],
   "source": [
    "#Porcionamos nuestros sets de entrenamiento y de evaluación.\n",
    "training_data = np.array(pixel_dataset[:900]).reshape(900, 784).astype(np.float32)/255\n",
    "training_labels = np.array(label_dataset[:900]).reshape(900, 1)\n",
    "evaluation_data = np.array(pixel_dataset[900:1000]).reshape(100, 784).astype(np.float32)/255\n",
    "evaluation_labels = np.array(label_dataset[900:1000]).reshape(100, 1)\n",
    "test_image = pixel_dataset[900:1000]"
   ]
  },
  {
   "cell_type": "code",
   "execution_count": 6,
   "id": "52b93a19",
   "metadata": {},
   "outputs": [],
   "source": [
    "def create_minibatches(mb_size, x, y, shuffle = True):\n",
    "    '''\n",
    "    x  #muestras, 784\n",
    "    y #muestras, 1\n",
    "    '''\n",
    "    assert x.shape[0] == y.shape[0], 'Error en cantidad de muestras'\n",
    "    total_data = x.shape[0]\n",
    "    if shuffle: \n",
    "        idxs = np.arange(total_data)\n",
    "        np.random.shuffle(idxs)\n",
    "        x = x[idxs]\n",
    "        y = y[idxs]\n",
    "        \n",
    "    return ((x[i:i+mb_size], y[i:i+mb_size]) for i in range(0, total_data, mb_size))"
   ]
  },
  {
   "cell_type": "code",
   "execution_count": 7,
   "id": "dfea1fc1",
   "metadata": {},
   "outputs": [],
   "source": [
    "def init_parameters(input_size, neurons):\n",
    "    W1 = np.random.randn(neurons[0], input_size) * 0.001\n",
    "    b1 = np.zeros((neurons[0], 1))\n",
    "    W2 = np.random.randn(neurons[1], neurons[0]) * 0.001\n",
    "    b2 = np.zeros((neurons[1], 1))\n",
    "    return {'W1':W1, 'b1':b1, 'W2':W2, 'b2':b2}"
   ]
  },
  {
   "cell_type": "code",
   "execution_count": 8,
   "id": "2e362d1a",
   "metadata": {},
   "outputs": [],
   "source": [
    "def relu(x):\n",
    "    return np.maximum(0, x)"
   ]
  },
  {
   "cell_type": "code",
   "execution_count": 9,
   "id": "9d4ca56e",
   "metadata": {},
   "outputs": [],
   "source": [
    "def scores(x, parameters, activation_fcn):\n",
    "    '''\n",
    "    x tiene la forma (#pixeles, num samples)\n",
    "    '''\n",
    "    z1 = parameters['W1'] @ x + parameters['b1']\n",
    "    a1 = activation_fcn(z1) # devuel fcn. de activa.\n",
    "    z2 = parameters['W2'] @ a1 + parameters['b2']\n",
    "    \n",
    "    return z2, z1, a1"
   ]
  },
  {
   "cell_type": "code",
   "execution_count": 10,
   "id": "d7fdac6d",
   "metadata": {},
   "outputs": [],
   "source": [
    "def softmax(x):\n",
    "    exp_scores = np.exp(x)\n",
    "    sum_exp_scores = np.sum(exp_scores, axis=0)\n",
    "    probs = exp_scores/sum_exp_scores\n",
    "    return probs"
   ]
  },
  {
   "cell_type": "code",
   "execution_count": 11,
   "id": "2edc71e4",
   "metadata": {},
   "outputs": [],
   "source": [
    "def x_entropy(scores, y, batch_size=64):\n",
    "    probs = softmax(scores)\n",
    "    y_hat = probs[y.squeeze(), np.arange(batch_size)]\n",
    "    cost = np.sum(-np.log(y_hat)) / batch_size\n",
    "    \n",
    "    return probs, cost"
   ]
  },
  {
   "cell_type": "code",
   "execution_count": 12,
   "id": "bf298ab4",
   "metadata": {},
   "outputs": [],
   "source": [
    "def backward(probs, x, y, z1, a1, scores, parameters, batch_size=64):\n",
    "    grads = {}\n",
    "    probs[y.squeeze(), np.arange(batch_size)] -= 1 # y-hat - y\n",
    "    dz2 = probs.copy()\n",
    "    \n",
    "    dW2 = dz2 @ a1.T / batch_size\n",
    "    db2 = np.sum(dz2, axis =1, keepdims=True) / batch_size\n",
    "    da1 = parameters['W2'].T @ dz2\n",
    "    \n",
    "    dz1 = da1.copy()\n",
    "    dz1[z1 <= 0 ] =0\n",
    "    \n",
    "    dW1 = dz1 @ x \n",
    "    db1 = np.sum(dz1, axis=1, keepdims=True) \n",
    "    \n",
    "    assert parameters['W1'].shape == dW1.shape, 'W1 no igual forma'\n",
    "    assert parameters['W2'].shape == dW2.shape, 'W2 no igual forma'\n",
    "    assert parameters['b1'].shape == db1.shape, 'b1 no igual forma'\n",
    "    assert parameters['b2'].shape == db2.shape, 'b2 no igual forma'\n",
    "    \n",
    "    grads = {'w1':dW1,  'b1':db1, 'W2':dW2, 'b2':db2}\n",
    "    \n",
    "    return grads"
   ]
  },
  {
   "cell_type": "code",
   "execution_count": 13,
   "id": "66acff61",
   "metadata": {},
   "outputs": [],
   "source": [
    "def accuracy(x_data, y_data, mb_size=64):\n",
    "    correct = 0\n",
    "    total = 0\n",
    "    for i, (x, y) in enumerate(create_minibatches(mb_size, x_data, y_data)):\n",
    "        scores2, z1, a1 = scores(x.T, parameters, relu)\n",
    "        y_hat, cost = x_entropy(scores2, y, batch_size=len(x))\n",
    "        \n",
    "        correct += np.sum(np.argmax(y_hat, axis=0) == y.squeeze())\n",
    "        total += y_hat.shape[1]\n",
    "    return correct/total"
   ]
  },
  {
   "cell_type": "code",
   "execution_count": 14,
   "id": "bff4553d",
   "metadata": {},
   "outputs": [],
   "source": [
    "def train(epochs, parameters, mb_size=64, learning_rate = 1e-3):\n",
    "    for epoch in range(epochs):\n",
    "        for i, (x, y) in enumerate(create_minibatches(mb_size, training_data, training_labels)):\n",
    "            scores2, z1, a1 = scores(x.T, parameters=parameters, activation_fcn=relu)\n",
    "            y_hat, cost = x_entropy(scores2, y, batch_size=len(x))\n",
    "            grads = backward(y_hat, x, y, z1, a1, scores2, parameters, batch_size=len(x))\n",
    "            \n",
    "            parameters['W1'] = parameters['W1'] - learning_rate*grads['w1']\n",
    "            parameters['b1'] = parameters['b1'] - learning_rate*grads['b1']\n",
    "            parameters['b2'] = parameters['b2'] - learning_rate*grads['b2']\n",
    "            parameters['W2'] = parameters['W2'] - learning_rate*grads['W2']\n",
    "            \n",
    "        print(f'costo es: {cost}, y accuracy: {accuracy(evaluation_data, evaluation_labels, mb_size)}')\n",
    "    return parameters"
   ]
  },
  {
   "cell_type": "code",
   "execution_count": 15,
   "id": "739f8a9a",
   "metadata": {},
   "outputs": [],
   "source": [
    "def predict(x):\n",
    "    scores2, _, _ = scores(x, parameters, relu)\n",
    "    return np.argmax(scores2)"
   ]
  },
  {
   "cell_type": "code",
   "execution_count": 16,
   "id": "d469eb8b",
   "metadata": {},
   "outputs": [],
   "source": [
    "def plot_number(image):\n",
    "    plt.imshow(image.squeeze(), cmap=plt.get_cmap('gray'))\n",
    "    plt.axis('off')\n",
    "    plt.show()"
   ]
  },
  {
   "cell_type": "code",
   "execution_count": 17,
   "id": "820e5616",
   "metadata": {},
   "outputs": [],
   "source": [
    "parameters = init_parameters(28*28, [200, 10])"
   ]
  },
  {
   "cell_type": "code",
   "execution_count": 18,
   "id": "2ffc1a73",
   "metadata": {},
   "outputs": [
    {
     "name": "stdout",
     "output_type": "stream",
     "text": [
      "costo es: 2.3015476826184456, y accuracy: 0.43\n",
      "costo es: 2.299622848798562, y accuracy: 0.51\n",
      "costo es: 2.296309293896111, y accuracy: 0.49\n",
      "costo es: 2.2866383043632785, y accuracy: 0.42\n",
      "costo es: 2.268758549340848, y accuracy: 0.37\n",
      "costo es: 2.24407876962452, y accuracy: 0.37\n",
      "costo es: 2.1215324148474513, y accuracy: 0.35\n",
      "costo es: 2.076379892462489, y accuracy: 0.47\n",
      "costo es: 1.918139013666352, y accuracy: 0.52\n",
      "costo es: 1.5752199367829172, y accuracy: 0.63\n",
      "costo es: 1.4383212278434965, y accuracy: 0.68\n",
      "costo es: 1.2625913476040744, y accuracy: 0.66\n",
      "costo es: 1.0619766866176423, y accuracy: 0.68\n",
      "costo es: 0.9716318945735759, y accuracy: 0.66\n",
      "costo es: 0.914867031777449, y accuracy: 0.7\n",
      "costo es: 0.8462886275785624, y accuracy: 0.72\n",
      "costo es: 0.8579647229636155, y accuracy: 0.74\n",
      "costo es: 0.5290947799721492, y accuracy: 0.75\n",
      "costo es: 0.6101627829002652, y accuracy: 0.8\n",
      "costo es: 0.6413448053808056, y accuracy: 0.79\n"
     ]
    }
   ],
   "source": [
    "mb_size = 100\n",
    "learning_rate = 0.01\n",
    "epochs = 20\n",
    "parameters = train(epochs=epochs, parameters=parameters, mb_size=mb_size, learning_rate=learning_rate)"
   ]
  },
  {
   "cell_type": "code",
   "execution_count": 19,
   "id": "59db1a53",
   "metadata": {
    "scrolled": true
   },
   "outputs": [
    {
     "data": {
      "text/plain": [
       "0.79"
      ]
     },
     "execution_count": 19,
     "metadata": {},
     "output_type": "execute_result"
    }
   ],
   "source": [
    "accuracy(evaluation_data, evaluation_labels, mb_size)"
   ]
  },
  {
   "cell_type": "code",
   "execution_count": 28,
   "id": "af854edb",
   "metadata": {
    "scrolled": true
   },
   "outputs": [
    {
     "name": "stdout",
     "output_type": "stream",
     "text": [
      "el valor predicho es: 7\n"
     ]
    },
    {
     "data": {
      "image/png": "[encoded data removed]",
      "text/plain": [
       "<Figure size 432x288 with 1 Axes>"
      ]
     },
     "metadata": {
      "needs_background": "light"
     },
     "output_type": "display_data"
    }
   ],
   "source": [
    "idx = np.random.randint(len(evaluation_labels))\n",
    "pred = predict(evaluation_data[idx].reshape(-1, 1))\n",
    "print(f'el valor predicho es: {pred}')\n",
    "plt.imshow(test_image[idx].squeeze(), cmap=plt.get_cmap('gray'))\n",
    "plt.axis('off')\n",
    "plt.show()"
   ]
  },
  {
   "cell_type": "code",
   "execution_count": 23,
   "id": "42e28b2f",
   "metadata": {},
   "outputs": [
    {
     "data": {
      "image/png": "[encoded data removed]",
      "text/plain": [
       "<Figure size 432x288 with 1 Axes>"
      ]
     },
     "metadata": {
      "needs_background": "light"
     },
     "output_type": "display_data"
    },
    {
     "data": {
      "image/png": "[encoded data removed]",
      "text/plain": [
       "<Figure size 432x288 with 1 Axes>"
      ]
     },
     "metadata": {
      "needs_background": "light"
     },
     "output_type": "display_data"
    }
   ],
   "source": [
    "loss = [2.3015476826184456,2.299622848798562,2.296309293896111,\n",
    "        2.2866383043632785,2.268758549340848,2.24407876962452,\n",
    "        2.1215324148474513,2.076379892462489,1.918139013666352,\n",
    "       1.5752199367829172,1.4383212278434965,1.2625913476040744,\n",
    "       1.0619766866176423,0.9716318945735759,0.914867031777449,\n",
    "       0.8462886275785624,0.8579647229636155,0.5290947799721492,\n",
    "       0.6101627829002652,0.6413448053808056]\n",
    "acc = [0.43,0.51,0.49,0.42,0.37,0.37,0.35,0.47,0.52,0.63,0.68,0.66,0.68,\n",
    "      0.66,0.7,0.72,0.72,0.74,0.75,0.8,0.79]\n",
    "\n",
    "plt.plot(loss)\n",
    "plt.xlabel('Epoch')\n",
    "plt.ylabel('Loss')\n",
    "plt.title('Loss graph')\n",
    "plt.show()\n",
    "\n",
    "plt.plot(acc)\n",
    "plt.xlabel('Epoch')\n",
    "plt.ylabel('Acuracy')\n",
    "plt.title('Acuracy graph')\n",
    "plt.show()"
   ]
  },
  {
   "cell_type": "code",
   "execution_count": null,
   "id": "9ce74243",
   "metadata": {},
   "outputs": [],
   "source": []
  }
 ],
 "metadata": {
  "kernelspec": {
   "display_name": "Python 3 (ipykernel)",
   "language": "python",
   "name": "python3"
  },
  "language_info": {
   "codemirror_mode": {
    "name": "ipython",
    "version": 3
   },
   "file_extension": ".py",
   "mimetype": "text/x-python",
   "name": "python",
   "nbconvert_exporter": "python",
   "pygments_lexer": "ipython3",
   "version": "3.10.2"
  }
 },
 "nbformat": 4,
 "nbformat_minor": 5
}
